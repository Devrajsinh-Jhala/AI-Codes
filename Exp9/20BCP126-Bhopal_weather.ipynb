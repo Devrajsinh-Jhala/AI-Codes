{
 "cells": [
  {
   "cell_type": "code",
   "execution_count": null,
   "metadata": {},
   "outputs": [],
   "source": [
    "import numpy as np\n",
    "import pandas as pd\n",
    "import matplotlib.pyplot as plt\n",
    "from sklearn.model_selection import train_test_split\n",
    "from keras.preprocessing.sequence import TimeseriesGenerator\n",
    "from sklearn.preprocessing import MinMaxScaler"
   ]
  },
  {
   "cell_type": "code",
   "execution_count": null,
   "metadata": {},
   "outputs": [
    {
     "data": {
      "text/html": [
       "<div>\n",
       "<style scoped>\n",
       "    .dataframe tbody tr th:only-of-type {\n",
       "        vertical-align: middle;\n",
       "    }\n",
       "\n",
       "    .dataframe tbody tr th {\n",
       "        vertical-align: top;\n",
       "    }\n",
       "\n",
       "    .dataframe thead th {\n",
       "        text-align: right;\n",
       "    }\n",
       "</style>\n",
       "<table border=\"1\" class=\"dataframe\">\n",
       "  <thead>\n",
       "    <tr style=\"text-align: right;\">\n",
       "      <th></th>\n",
       "      <th>DATE</th>\n",
       "      <th>MAX_TEMP</th>\n",
       "      <th>MIN_TEMP</th>\n",
       "      <th>RAINFALL_24_HRS</th>\n",
       "    </tr>\n",
       "  </thead>\n",
       "  <tbody>\n",
       "    <tr>\n",
       "      <th>0</th>\n",
       "      <td>1/1/2020</td>\n",
       "      <td>18.5</td>\n",
       "      <td>9.7</td>\n",
       "      <td>0.0</td>\n",
       "    </tr>\n",
       "    <tr>\n",
       "      <th>1</th>\n",
       "      <td>1/2/2020</td>\n",
       "      <td>20.3</td>\n",
       "      <td>12.0</td>\n",
       "      <td>0.0</td>\n",
       "    </tr>\n",
       "    <tr>\n",
       "      <th>2</th>\n",
       "      <td>1/3/2020</td>\n",
       "      <td>20.7</td>\n",
       "      <td>14.0</td>\n",
       "      <td>0.0</td>\n",
       "    </tr>\n",
       "    <tr>\n",
       "      <th>3</th>\n",
       "      <td>1/4/2020</td>\n",
       "      <td>20.5</td>\n",
       "      <td>11.0</td>\n",
       "      <td>0.0</td>\n",
       "    </tr>\n",
       "    <tr>\n",
       "      <th>4</th>\n",
       "      <td>1/5/2020</td>\n",
       "      <td>17.0</td>\n",
       "      <td>7.2</td>\n",
       "      <td>0.0</td>\n",
       "    </tr>\n",
       "    <tr>\n",
       "      <th>...</th>\n",
       "      <td>...</td>\n",
       "      <td>...</td>\n",
       "      <td>...</td>\n",
       "      <td>...</td>\n",
       "    </tr>\n",
       "    <tr>\n",
       "      <th>451</th>\n",
       "      <td>3/27/2021</td>\n",
       "      <td>33.7</td>\n",
       "      <td>17.0</td>\n",
       "      <td>0.0</td>\n",
       "    </tr>\n",
       "    <tr>\n",
       "      <th>452</th>\n",
       "      <td>3/28/2021</td>\n",
       "      <td>36.8</td>\n",
       "      <td>18.4</td>\n",
       "      <td>0.0</td>\n",
       "    </tr>\n",
       "    <tr>\n",
       "      <th>453</th>\n",
       "      <td>3/29/2021</td>\n",
       "      <td>38.9</td>\n",
       "      <td>19.2</td>\n",
       "      <td>0.0</td>\n",
       "    </tr>\n",
       "    <tr>\n",
       "      <th>454</th>\n",
       "      <td>3/30/2021</td>\n",
       "      <td>41.0</td>\n",
       "      <td>20.0</td>\n",
       "      <td>0.0</td>\n",
       "    </tr>\n",
       "    <tr>\n",
       "      <th>455</th>\n",
       "      <td>3/31/2021</td>\n",
       "      <td>40.2</td>\n",
       "      <td>21.0</td>\n",
       "      <td>0.0</td>\n",
       "    </tr>\n",
       "  </tbody>\n",
       "</table>\n",
       "<p>456 rows × 4 columns</p>\n",
       "</div>"
      ],
      "text/plain": [
       "          DATE  MAX_TEMP  MIN_TEMP  RAINFALL_24_HRS\n",
       "0     1/1/2020      18.5       9.7              0.0\n",
       "1     1/2/2020      20.3      12.0              0.0\n",
       "2     1/3/2020      20.7      14.0              0.0\n",
       "3     1/4/2020      20.5      11.0              0.0\n",
       "4     1/5/2020      17.0       7.2              0.0\n",
       "..         ...       ...       ...              ...\n",
       "451  3/27/2021      33.7      17.0              0.0\n",
       "452  3/28/2021      36.8      18.4              0.0\n",
       "453  3/29/2021      38.9      19.2              0.0\n",
       "454  3/30/2021      41.0      20.0              0.0\n",
       "455  3/31/2021      40.2      21.0              0.0\n",
       "\n",
       "[456 rows x 4 columns]"
      ]
     },
     "execution_count": 2,
     "metadata": {},
     "output_type": "execute_result"
    }
   ],
   "source": [
    "df = pd.read_csv(\"./dataset/Weather_Bhopal.csv\")\n",
    "df"
   ]
  },
  {
   "cell_type": "code",
   "execution_count": null,
   "metadata": {},
   "outputs": [],
   "source": [
    "df['DATE'] = pd.to_datetime(df['DATE'], infer_datetime_format=True)"
   ]
  },
  {
   "cell_type": "code",
   "execution_count": null,
   "metadata": {},
   "outputs": [
    {
     "data": {
      "text/plain": [
       "array([<AxesSubplot:xlabel='DATE'>, <AxesSubplot:xlabel='DATE'>,\n",
       "       <AxesSubplot:xlabel='DATE'>], dtype=object)"
      ]
     },
     "execution_count": 4,
     "metadata": {},
     "output_type": "execute_result"
    },
    {
     "data": {
      "image/png": "[encoded data removed]",
      "text/plain": [
       "<Figure size 432x288 with 3 Axes>"
      ]
     },
     "metadata": {
      "needs_background": "light"
     },
     "output_type": "display_data"
    }
   ],
   "source": [
    "df.set_index('DATE')[[\"MAX_TEMP\",\"MIN_TEMP\",\"RAINFALL_24_HRS\"]].plot(subplots=True)"
   ]
  },
  {
   "cell_type": "code",
   "execution_count": null,
   "metadata": {},
   "outputs": [
    {
     "data": {
      "text/html": [
       "<div>\n",
       "<style scoped>\n",
       "    .dataframe tbody tr th:only-of-type {\n",
       "        vertical-align: middle;\n",
       "    }\n",
       "\n",
       "    .dataframe tbody tr th {\n",
       "        vertical-align: top;\n",
       "    }\n",
       "\n",
       "    .dataframe thead th {\n",
       "        text-align: right;\n",
       "    }\n",
       "</style>\n",
       "<table border=\"1\" class=\"dataframe\">\n",
       "  <thead>\n",
       "    <tr style=\"text-align: right;\">\n",
       "      <th></th>\n",
       "      <th>MAX_TEMP</th>\n",
       "      <th>MIN_TEMP</th>\n",
       "      <th>RAINFALL_24_HRS</th>\n",
       "    </tr>\n",
       "  </thead>\n",
       "  <tbody>\n",
       "    <tr>\n",
       "      <th>0</th>\n",
       "      <td>18.5</td>\n",
       "      <td>9.7</td>\n",
       "      <td>0.0</td>\n",
       "    </tr>\n",
       "    <tr>\n",
       "      <th>1</th>\n",
       "      <td>20.3</td>\n",
       "      <td>12.0</td>\n",
       "      <td>0.0</td>\n",
       "    </tr>\n",
       "    <tr>\n",
       "      <th>2</th>\n",
       "      <td>20.7</td>\n",
       "      <td>14.0</td>\n",
       "      <td>0.0</td>\n",
       "    </tr>\n",
       "    <tr>\n",
       "      <th>3</th>\n",
       "      <td>20.5</td>\n",
       "      <td>11.0</td>\n",
       "      <td>0.0</td>\n",
       "    </tr>\n",
       "    <tr>\n",
       "      <th>4</th>\n",
       "      <td>17.0</td>\n",
       "      <td>7.2</td>\n",
       "      <td>0.0</td>\n",
       "    </tr>\n",
       "  </tbody>\n",
       "</table>\n",
       "</div>"
      ],
      "text/plain": [
       "   MAX_TEMP  MIN_TEMP  RAINFALL_24_HRS\n",
       "0      18.5       9.7              0.0\n",
       "1      20.3      12.0              0.0\n",
       "2      20.7      14.0              0.0\n",
       "3      20.5      11.0              0.0\n",
       "4      17.0       7.2              0.0"
      ]
     },
     "execution_count": 5,
     "metadata": {},
     "output_type": "execute_result"
    }
   ],
   "source": [
    "input_df= df[[\"MAX_TEMP\",\"MIN_TEMP\",\"RAINFALL_24_HRS\"]]\n",
    "input_df.head()"
   ]
  },
  {
   "cell_type": "code",
   "execution_count": null,
   "metadata": {},
   "outputs": [
    {
     "data": {
      "text/html": [
       "<div>\n",
       "<style scoped>\n",
       "    .dataframe tbody tr th:only-of-type {\n",
       "        vertical-align: middle;\n",
       "    }\n",
       "\n",
       "    .dataframe tbody tr th {\n",
       "        vertical-align: top;\n",
       "    }\n",
       "\n",
       "    .dataframe thead th {\n",
       "        text-align: right;\n",
       "    }\n",
       "</style>\n",
       "<table border=\"1\" class=\"dataframe\">\n",
       "  <thead>\n",
       "    <tr style=\"text-align: right;\">\n",
       "      <th></th>\n",
       "      <th>MAX_TEMP</th>\n",
       "      <th>MIN_TEMP</th>\n",
       "      <th>RAINFALL_24_HRS</th>\n",
       "    </tr>\n",
       "  </thead>\n",
       "  <tbody>\n",
       "    <tr>\n",
       "      <th>count</th>\n",
       "      <td>456.000000</td>\n",
       "      <td>456.000000</td>\n",
       "      <td>456.00000</td>\n",
       "    </tr>\n",
       "    <tr>\n",
       "      <th>mean</th>\n",
       "      <td>32.059430</td>\n",
       "      <td>18.298465</td>\n",
       "      <td>2.05693</td>\n",
       "    </tr>\n",
       "    <tr>\n",
       "      <th>std</th>\n",
       "      <td>6.042076</td>\n",
       "      <td>6.088542</td>\n",
       "      <td>9.35162</td>\n",
       "    </tr>\n",
       "    <tr>\n",
       "      <th>min</th>\n",
       "      <td>17.000000</td>\n",
       "      <td>4.600000</td>\n",
       "      <td>0.00000</td>\n",
       "    </tr>\n",
       "    <tr>\n",
       "      <th>25%</th>\n",
       "      <td>28.400000</td>\n",
       "      <td>13.400000</td>\n",
       "      <td>0.00000</td>\n",
       "    </tr>\n",
       "    <tr>\n",
       "      <th>50%</th>\n",
       "      <td>32.500000</td>\n",
       "      <td>18.600000</td>\n",
       "      <td>0.00000</td>\n",
       "    </tr>\n",
       "    <tr>\n",
       "      <th>75%</th>\n",
       "      <td>35.500000</td>\n",
       "      <td>24.000000</td>\n",
       "      <td>0.00000</td>\n",
       "    </tr>\n",
       "    <tr>\n",
       "      <th>max</th>\n",
       "      <td>44.500000</td>\n",
       "      <td>29.900000</td>\n",
       "      <td>126.20000</td>\n",
       "    </tr>\n",
       "  </tbody>\n",
       "</table>\n",
       "</div>"
      ],
      "text/plain": [
       "         MAX_TEMP    MIN_TEMP  RAINFALL_24_HRS\n",
       "count  456.000000  456.000000        456.00000\n",
       "mean    32.059430   18.298465          2.05693\n",
       "std      6.042076    6.088542          9.35162\n",
       "min     17.000000    4.600000          0.00000\n",
       "25%     28.400000   13.400000          0.00000\n",
       "50%     32.500000   18.600000          0.00000\n",
       "75%     35.500000   24.000000          0.00000\n",
       "max     44.500000   29.900000        126.20000"
      ]
     },
     "execution_count": 6,
     "metadata": {},
     "output_type": "execute_result"
    }
   ],
   "source": [
    "input_df.describe()"
   ]
  },
  {
   "cell_type": "code",
   "execution_count": null,
   "metadata": {},
   "outputs": [],
   "source": [
    "sca = MinMaxScaler()\n",
    "data_sca = sca.fit_transform(input_df)"
   ]
  },
  {
   "cell_type": "code",
   "execution_count": null,
   "metadata": {},
   "outputs": [],
   "source": [
    "X= data_sca\n",
    "Y= data_sca[:,-1]\n"
   ]
  },
  {
   "cell_type": "code",
   "execution_count": null,
   "metadata": {},
   "outputs": [],
   "source": [
    "xtrain, xtest, ytrain,ytest = train_test_split(X,Y, shuffle=False)"
   ]
  },
  {
   "cell_type": "code",
   "execution_count": null,
   "metadata": {},
   "outputs": [],
   "source": [
    "# print(xtrain.shape)\n",
    "# xtrain"
   ]
  },
  {
   "cell_type": "code",
   "execution_count": null,
   "metadata": {},
   "outputs": [
    {
     "data": {
      "text/plain": [
       "(array([[[0.05454545, 0.20158103, 0.        ],\n",
       "         [0.12      , 0.29249012, 0.        ],\n",
       "         [0.13454545, 0.3715415 , 0.        ],\n",
       "         [0.12727273, 0.25296443, 0.        ],\n",
       "         [0.        , 0.1027668 , 0.        ]]]),\n",
       " array([0.]))"
      ]
     },
     "execution_count": 11,
     "metadata": {},
     "output_type": "execute_result"
    }
   ],
   "source": [
    "TimeseriesGenerator(xtrain, ytrain, length=5, sampling_rate=1, batch_size=1)[0]"
   ]
  },
  {
   "cell_type": "code",
   "execution_count": null,
   "metadata": {},
   "outputs": [],
   "source": [
    "win_len=10\n",
    "# num_feature=3\n",
    "train_generator= TimeseriesGenerator(xtrain, ytrain, length=win_len,sampling_rate=1, batch_size=32)\n",
    "test_generator= TimeseriesGenerator(xtest, ytest, length=win_len,sampling_rate=1, batch_size=32)"
   ]
  },
  {
   "cell_type": "code",
   "execution_count": null,
   "metadata": {},
   "outputs": [],
   "source": [
    "from keras.models import Sequential\n",
    "from keras.layers import LSTM, Dense, Dropout\n",
    "import tensorflow as tf"
   ]
  },
  {
   "cell_type": "code",
   "execution_count": null,
   "metadata": {},
   "outputs": [
    {
     "data": {
      "text/plain": [
       "keras.preprocessing.sequence.TimeseriesGenerator"
      ]
     },
     "execution_count": 14,
     "metadata": {},
     "output_type": "execute_result"
    }
   ],
   "source": [
    "type(train_generator)"
   ]
  },
  {
   "cell_type": "code",
   "execution_count": null,
   "metadata": {},
   "outputs": [
    {
     "data": {
      "text/plain": [
       "<keras.preprocessing.sequence.TimeseriesGenerator at 0x2cd3c73fbb0>"
      ]
     },
     "execution_count": 15,
     "metadata": {},
     "output_type": "execute_result"
    }
   ],
   "source": [
    "train_generator"
   ]
  },
  {
   "cell_type": "code",
   "execution_count": null,
   "metadata": {},
   "outputs": [
    {
     "name": "stdout",
     "output_type": "stream",
     "text": [
      "Model: \"sequential\"\n",
      "_________________________________________________________________\n",
      " Layer (type)                Output Shape              Param #   \n",
      "=================================================================\n",
      " lstm (LSTM)                 (None, 10, 32)            4608      \n",
      "                                                                 \n",
      " lstm_1 (LSTM)               (None, 10, 32)            8320      \n",
      "                                                                 \n",
      " dropout (Dropout)           (None, 10, 32)            0         \n",
      "                                                                 \n",
      " lstm_2 (LSTM)               (None, 10, 32)            8320      \n",
      "                                                                 \n",
      " dropout_1 (Dropout)         (None, 10, 32)            0         \n",
      "                                                                 \n",
      " lstm_3 (LSTM)               (None, 10, 32)            8320      \n",
      "                                                                 \n",
      " dropout_2 (Dropout)         (None, 10, 32)            0         \n",
      "                                                                 \n",
      " lstm_4 (LSTM)               (None, 10, 32)            8320      \n",
      "                                                                 \n",
      " dropout_3 (Dropout)         (None, 10, 32)            0         \n",
      "                                                                 \n",
      " lstm_5 (LSTM)               (None, 10, 32)            8320      \n",
      "                                                                 \n",
      " dropout_4 (Dropout)         (None, 10, 32)            0         \n",
      "                                                                 \n",
      " lstm_6 (LSTM)               (None, 10, 32)            8320      \n",
      "                                                                 \n",
      " dropout_5 (Dropout)         (None, 10, 32)            0         \n",
      "                                                                 \n",
      " lstm_7 (LSTM)               (None, 10, 32)            8320      \n",
      "                                                                 \n",
      " dropout_6 (Dropout)         (None, 10, 32)            0         \n",
      "                                                                 \n",
      " lstm_8 (LSTM)               (None, 32)                8320      \n",
      "                                                                 \n",
      " dense (Dense)               (None, 5)                 165       \n",
      "                                                                 \n",
      " dense_1 (Dense)             (None, 3)                 18        \n",
      "                                                                 \n",
      " dense_2 (Dense)             (None, 1)                 4         \n",
      "                                                                 \n",
      "=================================================================\n",
      "Total params: 71,355\n",
      "Trainable params: 71,355\n",
      "Non-trainable params: 0\n",
      "_________________________________________________________________\n"
     ]
    }
   ],
   "source": [
    "model = Sequential()\n",
    "model.add(LSTM(32, input_shape=(win_len, 3), activation='tanh', return_sequences=True))\n",
    "model.add(LSTM(32, activation='tanh', return_sequences=True))\n",
    "model.add(Dropout(0.2))\n",
    "model.add(LSTM(32, activation='tanh', return_sequences=True))\n",
    "model.add(Dropout(0.2))\n",
    "model.add(LSTM(32, activation='tanh', return_sequences=True))\n",
    "model.add(Dropout(0.2))\n",
    "model.add(LSTM(32, activation='tanh', return_sequences=True))\n",
    "model.add(Dropout(0.2))\n",
    "model.add(LSTM(32, activation='tanh', return_sequences=True))\n",
    "model.add(Dropout(0.2))\n",
    "model.add(LSTM(32, activation='tanh', return_sequences=True))\n",
    "model.add(Dropout(0.2))\n",
    "model.add(LSTM(32, activation='tanh', return_sequences=True))\n",
    "model.add(Dropout(0.2))\n",
    "model.add(LSTM(32, activation='tanh', return_sequences=False))\n",
    "model.add(Dense(5, activation='tanh'))\n",
    "model.add(Dense(3, activation='tanh'))\n",
    "model.add(Dense(1))\n",
    "model.summary()"
   ]
  },
  {
   "cell_type": "code",
   "execution_count": null,
   "metadata": {},
   "outputs": [],
   "source": [
    "from keras.callbacks import EarlyStopping"
   ]
  },
  {
   "cell_type": "code",
   "execution_count": null,
   "metadata": {},
   "outputs": [],
   "source": [
    "early_stopping =  EarlyStopping(monitor='val_loss', mode='min', patience=3)"
   ]
  },
  {
   "cell_type": "code",
   "execution_count": null,
   "metadata": {},
   "outputs": [],
   "source": [
    "model.compile( loss=tf.keras.losses.MeanSquaredError(), optimizer='adam', metrics=[tf.keras.metrics.MeanAbsoluteError()])"
   ]
  },
  {
   "cell_type": "code",
   "execution_count": null,
   "metadata": {},
   "outputs": [
    {
     "data": {
      "text/plain": [
       "4"
      ]
     },
     "execution_count": 20,
     "metadata": {},
     "output_type": "execute_result"
    }
   ],
   "source": [
    "len(test_generator)"
   ]
  },
  {
   "cell_type": "code",
   "execution_count": null,
   "metadata": {},
   "outputs": [
    {
     "name": "stderr",
     "output_type": "stream",
     "text": [
      "C:\\Users\\meet1\\AppData\\Local\\Temp\\ipykernel_19148\\769705248.py:1: UserWarning: `Model.fit_generator` is deprecated and will be removed in a future version. Please use `Model.fit`, which supports generators.\n",
      "  hist = model.fit_generator(train_generator, epochs=100, validation_data=test_generator, shuffle=False)\n"
     ]
    },
    {
     "name": "stdout",
     "output_type": "stream",
     "text": [
      "Epoch 1/100\n",
      "11/11 [==============================] - 45s 481ms/step - loss: 0.0082 - mean_absolute_error: 0.0389 - val_loss: 0.0025 - val_mean_absolute_error: 0.0494\n",
      "Epoch 2/100\n",
      "11/11 [==============================] - 1s 44ms/step - loss: 0.0081 - mean_absolute_error: 0.0358 - val_loss: 3.9011e-04 - val_mean_absolute_error: 0.0165\n",
      "Epoch 3/100\n",
      "11/11 [==============================] - 0s 44ms/step - loss: 0.0074 - mean_absolute_error: 0.0340 - val_loss: 0.0010 - val_mean_absolute_error: 0.0315\n",
      "Epoch 4/100\n",
      "11/11 [==============================] - 1s 45ms/step - loss: 0.0076 - mean_absolute_error: 0.0364 - val_loss: 5.8404e-04 - val_mean_absolute_error: 0.0225\n",
      "Epoch 5/100\n",
      "11/11 [==============================] - 1s 45ms/step - loss: 0.0075 - mean_absolute_error: 0.0336 - val_loss: 7.3760e-04 - val_mean_absolute_error: 0.0260\n",
      "Epoch 6/100\n",
      "11/11 [==============================] - 1s 48ms/step - loss: 0.0075 - mean_absolute_error: 0.0357 - val_loss: 7.0463e-04 - val_mean_absolute_error: 0.0253\n",
      "Epoch 7/100\n",
      "11/11 [==============================] - 1s 48ms/step - loss: 0.0075 - mean_absolute_error: 0.0346 - val_loss: 6.8617e-04 - val_mean_absolute_error: 0.0249\n",
      "Epoch 8/100\n",
      "11/11 [==============================] - 0s 45ms/step - loss: 0.0075 - mean_absolute_error: 0.0350 - val_loss: 7.0720e-04 - val_mean_absolute_error: 0.0254\n",
      "Epoch 9/100\n",
      "11/11 [==============================] - 1s 47ms/step - loss: 0.0075 - mean_absolute_error: 0.0350 - val_loss: 6.9175e-04 - val_mean_absolute_error: 0.0250\n",
      "Epoch 10/100\n",
      "11/11 [==============================] - 1s 46ms/step - loss: 0.0075 - mean_absolute_error: 0.0348 - val_loss: 6.8335e-04 - val_mean_absolute_error: 0.0248\n",
      "Epoch 11/100\n",
      "11/11 [==============================] - 1s 47ms/step - loss: 0.0075 - mean_absolute_error: 0.0349 - val_loss: 6.9621e-04 - val_mean_absolute_error: 0.0251\n",
      "Epoch 12/100\n",
      "11/11 [==============================] - 0s 44ms/step - loss: 0.0075 - mean_absolute_error: 0.0350 - val_loss: 6.8427e-04 - val_mean_absolute_error: 0.0249\n",
      "Epoch 13/100\n",
      "11/11 [==============================] - 1s 47ms/step - loss: 0.0075 - mean_absolute_error: 0.0348 - val_loss: 6.8856e-04 - val_mean_absolute_error: 0.0249\n",
      "Epoch 14/100\n",
      "11/11 [==============================] - 1s 46ms/step - loss: 0.0075 - mean_absolute_error: 0.0350 - val_loss: 6.8487e-04 - val_mean_absolute_error: 0.0249\n",
      "Epoch 15/100\n",
      "11/11 [==============================] - 1s 45ms/step - loss: 0.0075 - mean_absolute_error: 0.0349 - val_loss: 6.7314e-04 - val_mean_absolute_error: 0.0246\n",
      "Epoch 16/100\n",
      "11/11 [==============================] - 0s 44ms/step - loss: 0.0075 - mean_absolute_error: 0.0349 - val_loss: 6.7793e-04 - val_mean_absolute_error: 0.0247\n",
      "Epoch 17/100\n",
      "11/11 [==============================] - 1s 47ms/step - loss: 0.0075 - mean_absolute_error: 0.0349 - val_loss: 6.5657e-04 - val_mean_absolute_error: 0.0243\n",
      "Epoch 18/100\n",
      "11/11 [==============================] - 1s 46ms/step - loss: 0.0075 - mean_absolute_error: 0.0349 - val_loss: 6.5597e-04 - val_mean_absolute_error: 0.0243\n",
      "Epoch 19/100\n",
      "11/11 [==============================] - 1s 46ms/step - loss: 0.0075 - mean_absolute_error: 0.0352 - val_loss: 6.0673e-04 - val_mean_absolute_error: 0.0231\n",
      "Epoch 20/100\n",
      "11/11 [==============================] - 1s 45ms/step - loss: 0.0074 - mean_absolute_error: 0.0353 - val_loss: 4.4693e-04 - val_mean_absolute_error: 0.0180\n",
      "Epoch 21/100\n",
      "11/11 [==============================] - 1s 46ms/step - loss: 0.0073 - mean_absolute_error: 0.0343 - val_loss: 3.8940e-04 - val_mean_absolute_error: 0.0147\n",
      "Epoch 22/100\n",
      "11/11 [==============================] - 1s 47ms/step - loss: 0.0074 - mean_absolute_error: 0.0349 - val_loss: 3.3427e-04 - val_mean_absolute_error: 0.0143\n",
      "Epoch 23/100\n",
      "11/11 [==============================] - 1s 45ms/step - loss: 0.0072 - mean_absolute_error: 0.0327 - val_loss: 3.4978e-04 - val_mean_absolute_error: 0.0132\n",
      "Epoch 24/100\n",
      "11/11 [==============================] - 1s 48ms/step - loss: 0.0073 - mean_absolute_error: 0.0368 - val_loss: 2.5712e-04 - val_mean_absolute_error: 0.0081\n",
      "Epoch 25/100\n",
      "11/11 [==============================] - 1s 46ms/step - loss: 0.0072 - mean_absolute_error: 0.0315 - val_loss: 3.7294e-04 - val_mean_absolute_error: 0.0154\n",
      "Epoch 26/100\n",
      "11/11 [==============================] - 1s 45ms/step - loss: 0.0071 - mean_absolute_error: 0.0360 - val_loss: 5.8306e-04 - val_mean_absolute_error: 0.0177\n",
      "Epoch 27/100\n",
      "11/11 [==============================] - 0s 45ms/step - loss: 0.0074 - mean_absolute_error: 0.0438 - val_loss: 4.9421e-04 - val_mean_absolute_error: 0.0201\n",
      "Epoch 28/100\n",
      "11/11 [==============================] - 1s 48ms/step - loss: 0.0075 - mean_absolute_error: 0.0299 - val_loss: 4.4802e-04 - val_mean_absolute_error: 0.0187\n",
      "Epoch 29/100\n",
      "11/11 [==============================] - 1s 46ms/step - loss: 0.0072 - mean_absolute_error: 0.0361 - val_loss: 4.5026e-04 - val_mean_absolute_error: 0.0186\n",
      "Epoch 30/100\n",
      "11/11 [==============================] - 1s 46ms/step - loss: 0.0072 - mean_absolute_error: 0.0350 - val_loss: 3.6158e-04 - val_mean_absolute_error: 0.0117\n",
      "Epoch 31/100\n",
      "11/11 [==============================] - 1s 46ms/step - loss: 0.0072 - mean_absolute_error: 0.0360 - val_loss: 2.6120e-04 - val_mean_absolute_error: 0.0070\n",
      "Epoch 32/100\n",
      "11/11 [==============================] - 1s 48ms/step - loss: 0.0071 - mean_absolute_error: 0.0326 - val_loss: 2.9739e-04 - val_mean_absolute_error: 0.0108\n",
      "Epoch 33/100\n",
      "11/11 [==============================] - 1s 49ms/step - loss: 0.0071 - mean_absolute_error: 0.0348 - val_loss: 3.8413e-04 - val_mean_absolute_error: 0.0113\n",
      "Epoch 34/100\n",
      "11/11 [==============================] - 1s 48ms/step - loss: 0.0070 - mean_absolute_error: 0.0364 - val_loss: 2.6959e-04 - val_mean_absolute_error: 0.0076\n",
      "Epoch 35/100\n",
      "11/11 [==============================] - 1s 49ms/step - loss: 0.0070 - mean_absolute_error: 0.0322 - val_loss: 2.7736e-04 - val_mean_absolute_error: 0.0079\n",
      "Epoch 36/100\n",
      "11/11 [==============================] - 1s 46ms/step - loss: 0.0071 - mean_absolute_error: 0.0350 - val_loss: 3.2620e-04 - val_mean_absolute_error: 0.0086\n",
      "Epoch 37/100\n",
      "11/11 [==============================] - 1s 45ms/step - loss: 0.0070 - mean_absolute_error: 0.0337 - val_loss: 3.1968e-04 - val_mean_absolute_error: 0.0121\n",
      "Epoch 38/100\n",
      "11/11 [==============================] - 1s 45ms/step - loss: 0.0071 - mean_absolute_error: 0.0352 - val_loss: 3.8303e-04 - val_mean_absolute_error: 0.0110\n",
      "Epoch 39/100\n",
      "11/11 [==============================] - 1s 47ms/step - loss: 0.0071 - mean_absolute_error: 0.0353 - val_loss: 2.9565e-04 - val_mean_absolute_error: 0.0110\n",
      "Epoch 40/100\n",
      "11/11 [==============================] - 1s 48ms/step - loss: 0.0070 - mean_absolute_error: 0.0337 - val_loss: 3.4574e-04 - val_mean_absolute_error: 0.0098\n",
      "Epoch 41/100\n",
      "11/11 [==============================] - 1s 48ms/step - loss: 0.0070 - mean_absolute_error: 0.0346 - val_loss: 2.8275e-04 - val_mean_absolute_error: 0.0064\n",
      "Epoch 42/100\n",
      "11/11 [==============================] - 1s 121ms/step - loss: 0.0070 - mean_absolute_error: 0.0329 - val_loss: 2.7550e-04 - val_mean_absolute_error: 0.0080\n",
      "Epoch 43/100\n",
      "11/11 [==============================] - 1s 104ms/step - loss: 0.0070 - mean_absolute_error: 0.0343 - val_loss: 3.8681e-04 - val_mean_absolute_error: 0.0111\n",
      "Epoch 44/100\n",
      "11/11 [==============================] - 1s 103ms/step - loss: 0.0070 - mean_absolute_error: 0.0352 - val_loss: 2.7727e-04 - val_mean_absolute_error: 0.0090\n",
      "Epoch 45/100\n",
      "11/11 [==============================] - 1s 105ms/step - loss: 0.0071 - mean_absolute_error: 0.0334 - val_loss: 2.9808e-04 - val_mean_absolute_error: 0.0070\n",
      "Epoch 46/100\n",
      "11/11 [==============================] - 1s 104ms/step - loss: 0.0070 - mean_absolute_error: 0.0335 - val_loss: 2.6790e-04 - val_mean_absolute_error: 0.0069\n",
      "Epoch 47/100\n",
      "11/11 [==============================] - 1s 105ms/step - loss: 0.0070 - mean_absolute_error: 0.0341 - val_loss: 3.1476e-04 - val_mean_absolute_error: 0.0079\n",
      "Epoch 48/100\n",
      "11/11 [==============================] - 1s 106ms/step - loss: 0.0070 - mean_absolute_error: 0.0335 - val_loss: 2.6639e-04 - val_mean_absolute_error: 0.0071\n",
      "Epoch 49/100\n",
      "11/11 [==============================] - 1s 105ms/step - loss: 0.0070 - mean_absolute_error: 0.0338 - val_loss: 2.9556e-04 - val_mean_absolute_error: 0.0068\n",
      "Epoch 50/100\n",
      "11/11 [==============================] - 1s 126ms/step - loss: 0.0070 - mean_absolute_error: 0.0329 - val_loss: 2.7404e-04 - val_mean_absolute_error: 0.0085\n",
      "Epoch 51/100\n",
      "11/11 [==============================] - 1s 114ms/step - loss: 0.0071 - mean_absolute_error: 0.0352 - val_loss: 3.3876e-04 - val_mean_absolute_error: 0.0089\n",
      "Epoch 52/100\n",
      "11/11 [==============================] - 1s 105ms/step - loss: 0.0071 - mean_absolute_error: 0.0325 - val_loss: 3.3058e-04 - val_mean_absolute_error: 0.0135\n",
      "Epoch 53/100\n",
      "11/11 [==============================] - 1s 106ms/step - loss: 0.0070 - mean_absolute_error: 0.0360 - val_loss: 3.9881e-04 - val_mean_absolute_error: 0.0115\n",
      "Epoch 54/100\n",
      "11/11 [==============================] - 1s 106ms/step - loss: 0.0070 - mean_absolute_error: 0.0347 - val_loss: 2.7090e-04 - val_mean_absolute_error: 0.0086\n",
      "Epoch 55/100\n",
      "11/11 [==============================] - 1s 109ms/step - loss: 0.0069 - mean_absolute_error: 0.0342 - val_loss: 3.2910e-04 - val_mean_absolute_error: 0.0085\n",
      "Epoch 56/100\n",
      "11/11 [==============================] - 1s 108ms/step - loss: 0.0070 - mean_absolute_error: 0.0342 - val_loss: 2.5918e-04 - val_mean_absolute_error: 0.0057\n",
      "Epoch 57/100\n",
      "11/11 [==============================] - 1s 116ms/step - loss: 0.0070 - mean_absolute_error: 0.0318 - val_loss: 2.6242e-04 - val_mean_absolute_error: 0.0073\n",
      "Epoch 58/100\n",
      "11/11 [==============================] - 1s 106ms/step - loss: 0.0069 - mean_absolute_error: 0.0344 - val_loss: 3.2429e-04 - val_mean_absolute_error: 0.0082\n",
      "Epoch 59/100\n",
      "11/11 [==============================] - 1s 112ms/step - loss: 0.0070 - mean_absolute_error: 0.0321 - val_loss: 2.6950e-04 - val_mean_absolute_error: 0.0089\n",
      "Epoch 60/100\n",
      "11/11 [==============================] - 1s 112ms/step - loss: 0.0069 - mean_absolute_error: 0.0347 - val_loss: 3.0947e-04 - val_mean_absolute_error: 0.0073\n",
      "Epoch 61/100\n",
      "11/11 [==============================] - 1s 103ms/step - loss: 0.0070 - mean_absolute_error: 0.0334 - val_loss: 2.6135e-04 - val_mean_absolute_error: 0.0073\n",
      "Epoch 62/100\n",
      "11/11 [==============================] - 1s 52ms/step - loss: 0.0069 - mean_absolute_error: 0.0331 - val_loss: 2.8240e-04 - val_mean_absolute_error: 0.0058\n",
      "Epoch 63/100\n",
      "11/11 [==============================] - 1s 53ms/step - loss: 0.0070 - mean_absolute_error: 0.0336 - val_loss: 2.6687e-04 - val_mean_absolute_error: 0.0046\n",
      "Epoch 64/100\n",
      "11/11 [==============================] - 1s 49ms/step - loss: 0.0070 - mean_absolute_error: 0.0314 - val_loss: 2.6166e-04 - val_mean_absolute_error: 0.0073\n",
      "Epoch 65/100\n",
      "11/11 [==============================] - 1s 53ms/step - loss: 0.0070 - mean_absolute_error: 0.0346 - val_loss: 2.9951e-04 - val_mean_absolute_error: 0.0067\n",
      "Epoch 66/100\n",
      "11/11 [==============================] - 1s 51ms/step - loss: 0.0070 - mean_absolute_error: 0.0320 - val_loss: 2.9622e-04 - val_mean_absolute_error: 0.0115\n",
      "Epoch 67/100\n",
      "11/11 [==============================] - 1s 50ms/step - loss: 0.0070 - mean_absolute_error: 0.0352 - val_loss: 3.1866e-04 - val_mean_absolute_error: 0.0078\n",
      "Epoch 68/100\n",
      "11/11 [==============================] - 1s 50ms/step - loss: 0.0070 - mean_absolute_error: 0.0326 - val_loss: 2.6929e-04 - val_mean_absolute_error: 0.0088\n",
      "Epoch 69/100\n",
      "11/11 [==============================] - 1s 68ms/step - loss: 0.0070 - mean_absolute_error: 0.0351 - val_loss: 3.3911e-04 - val_mean_absolute_error: 0.0089\n",
      "Epoch 70/100\n",
      "11/11 [==============================] - 1s 81ms/step - loss: 0.0071 - mean_absolute_error: 0.0324 - val_loss: 3.6611e-04 - val_mean_absolute_error: 0.0154\n",
      "Epoch 71/100\n",
      "11/11 [==============================] - 1s 59ms/step - loss: 0.0071 - mean_absolute_error: 0.0350 - val_loss: 3.0141e-04 - val_mean_absolute_error: 0.0069\n",
      "Epoch 72/100\n",
      "11/11 [==============================] - 1s 52ms/step - loss: 0.0070 - mean_absolute_error: 0.0336 - val_loss: 2.5918e-04 - val_mean_absolute_error: 0.0059\n",
      "Epoch 73/100\n",
      "11/11 [==============================] - 1s 53ms/step - loss: 0.0070 - mean_absolute_error: 0.0317 - val_loss: 2.7198e-04 - val_mean_absolute_error: 0.0091\n",
      "Epoch 74/100\n",
      "11/11 [==============================] - 1s 56ms/step - loss: 0.0069 - mean_absolute_error: 0.0345 - val_loss: 3.5213e-04 - val_mean_absolute_error: 0.0095\n",
      "Epoch 75/100\n",
      "11/11 [==============================] - 1s 63ms/step - loss: 0.0069 - mean_absolute_error: 0.0346 - val_loss: 2.6276e-04 - val_mean_absolute_error: 0.0075\n",
      "Epoch 76/100\n",
      "11/11 [==============================] - 1s 103ms/step - loss: 0.0069 - mean_absolute_error: 0.0325 - val_loss: 2.6867e-04 - val_mean_absolute_error: 0.0050\n",
      "Epoch 77/100\n",
      "11/11 [==============================] - 1s 113ms/step - loss: 0.0070 - mean_absolute_error: 0.0342 - val_loss: 2.7976e-04 - val_mean_absolute_error: 0.0055\n",
      "Epoch 78/100\n",
      "11/11 [==============================] - 1s 110ms/step - loss: 0.0070 - mean_absolute_error: 0.0327 - val_loss: 2.6413e-04 - val_mean_absolute_error: 0.0081\n",
      "Epoch 79/100\n",
      "11/11 [==============================] - 1s 114ms/step - loss: 0.0069 - mean_absolute_error: 0.0332 - val_loss: 3.0000e-04 - val_mean_absolute_error: 0.0068\n",
      "Epoch 80/100\n",
      "11/11 [==============================] - 1s 109ms/step - loss: 0.0070 - mean_absolute_error: 0.0343 - val_loss: 2.5830e-04 - val_mean_absolute_error: 0.0059\n",
      "Epoch 81/100\n",
      "11/11 [==============================] - 1s 110ms/step - loss: 0.0069 - mean_absolute_error: 0.0325 - val_loss: 2.6186e-04 - val_mean_absolute_error: 0.0047\n",
      "Epoch 82/100\n",
      "11/11 [==============================] - 1s 112ms/step - loss: 0.0070 - mean_absolute_error: 0.0331 - val_loss: 2.7288e-04 - val_mean_absolute_error: 0.0048\n",
      "Epoch 83/100\n",
      "11/11 [==============================] - 1s 119ms/step - loss: 0.0069 - mean_absolute_error: 0.0325 - val_loss: 2.6027e-04 - val_mean_absolute_error: 0.0049\n",
      "Epoch 84/100\n",
      "11/11 [==============================] - 1s 109ms/step - loss: 0.0070 - mean_absolute_error: 0.0334 - val_loss: 2.5948e-04 - val_mean_absolute_error: 0.0048\n",
      "Epoch 85/100\n",
      "11/11 [==============================] - 1s 109ms/step - loss: 0.0070 - mean_absolute_error: 0.0325 - val_loss: 2.5922e-04 - val_mean_absolute_error: 0.0062\n",
      "Epoch 86/100\n",
      "11/11 [==============================] - 1s 109ms/step - loss: 0.0070 - mean_absolute_error: 0.0335 - val_loss: 2.7623e-04 - val_mean_absolute_error: 0.0050\n",
      "Epoch 87/100\n",
      "11/11 [==============================] - 1s 113ms/step - loss: 0.0069 - mean_absolute_error: 0.0319 - val_loss: 2.6110e-04 - val_mean_absolute_error: 0.0073\n",
      "Epoch 88/100\n",
      "11/11 [==============================] - 1s 111ms/step - loss: 0.0068 - mean_absolute_error: 0.0347 - val_loss: 3.3285e-04 - val_mean_absolute_error: 0.0086\n",
      "Epoch 89/100\n",
      "11/11 [==============================] - 1s 109ms/step - loss: 0.0070 - mean_absolute_error: 0.0336 - val_loss: 3.0293e-04 - val_mean_absolute_error: 0.0121\n",
      "Epoch 90/100\n",
      "11/11 [==============================] - 1s 108ms/step - loss: 0.0069 - mean_absolute_error: 0.0339 - val_loss: 2.7502e-04 - val_mean_absolute_error: 0.0051\n",
      "Epoch 91/100\n",
      "11/11 [==============================] - 1s 116ms/step - loss: 0.0069 - mean_absolute_error: 0.0339 - val_loss: 2.7048e-04 - val_mean_absolute_error: 0.0046\n",
      "Epoch 92/100\n",
      "11/11 [==============================] - 1s 111ms/step - loss: 0.0068 - mean_absolute_error: 0.0314 - val_loss: 2.5794e-04 - val_mean_absolute_error: 0.0060\n",
      "Epoch 93/100\n",
      "11/11 [==============================] - 1s 109ms/step - loss: 0.0069 - mean_absolute_error: 0.0350 - val_loss: 2.9997e-04 - val_mean_absolute_error: 0.0066\n",
      "Epoch 94/100\n",
      "11/11 [==============================] - 1s 110ms/step - loss: 0.0069 - mean_absolute_error: 0.0318 - val_loss: 2.8892e-04 - val_mean_absolute_error: 0.0111\n",
      "Epoch 95/100\n",
      "11/11 [==============================] - 1s 114ms/step - loss: 0.0069 - mean_absolute_error: 0.0358 - val_loss: 3.2238e-04 - val_mean_absolute_error: 0.0081\n",
      "Epoch 96/100\n",
      "11/11 [==============================] - 1s 107ms/step - loss: 0.0070 - mean_absolute_error: 0.0319 - val_loss: 2.7627e-04 - val_mean_absolute_error: 0.0101\n",
      "Epoch 97/100\n",
      "11/11 [==============================] - 1s 110ms/step - loss: 0.0068 - mean_absolute_error: 0.0346 - val_loss: 2.8916e-04 - val_mean_absolute_error: 0.0059\n",
      "Epoch 98/100\n",
      "11/11 [==============================] - 1s 109ms/step - loss: 0.0070 - mean_absolute_error: 0.0322 - val_loss: 2.5908e-04 - val_mean_absolute_error: 0.0077\n",
      "Epoch 99/100\n",
      "11/11 [==============================] - 1s 122ms/step - loss: 0.0069 - mean_absolute_error: 0.0328 - val_loss: 2.5848e-04 - val_mean_absolute_error: 0.0047\n",
      "Epoch 100/100\n",
      "11/11 [==============================] - 1s 110ms/step - loss: 0.0070 - mean_absolute_error: 0.0325 - val_loss: 2.5638e-04 - val_mean_absolute_error: 0.0066\n"
     ]
    }
   ],
   "source": [
    "hist = model.fit_generator(train_generator, epochs=100, validation_data=test_generator, shuffle=False)"
   ]
  },
  {
   "cell_type": "code",
   "execution_count": null,
   "metadata": {},
   "outputs": [
    {
     "name": "stdout",
     "output_type": "stream",
     "text": [
      "4/4 [==============================] - 16s 28ms/step\n"
     ]
    }
   ],
   "source": [
    "ypred= model.predict(test_generator)"
   ]
  },
  {
   "cell_type": "code",
   "execution_count": null,
   "metadata": {},
   "outputs": [
    {
     "data": {
      "text/plain": [
       "array([[0.00371494],\n",
       "       [0.0040985 ],\n",
       "       [0.00490909],\n",
       "       [0.00664304],\n",
       "       [0.00666807],\n",
       "       [0.00785284],\n",
       "       [0.00621027],\n",
       "       [0.00464048],\n",
       "       [0.00381586],\n",
       "       [0.00309817],\n",
       "       [0.0025369 ],\n",
       "       [0.00243326],\n",
       "       [0.00243543],\n",
       "       [0.00244619],\n",
       "       [0.00260217],\n",
       "       [0.00271767],\n",
       "       [0.00277289],\n",
       "       [0.00281918],\n",
       "       [0.00273637],\n",
       "       [0.00286805],\n",
       "       [0.00273071],\n",
       "       [0.00299216],\n",
       "       [0.00353824],\n",
       "       [0.00364731],\n",
       "       [0.00386836],\n",
       "       [0.00561384],\n",
       "       [0.00604414],\n",
       "       [0.00615779],\n",
       "       [0.00625339],\n",
       "       [0.00488113],\n",
       "       [0.0046503 ],\n",
       "       [0.00632001],\n",
       "       [0.00733124],\n",
       "       [0.00571101],\n",
       "       [0.00491233],\n",
       "       [0.00330234],\n",
       "       [0.00251694],\n",
       "       [0.00267174],\n",
       "       [0.00287736],\n",
       "       [0.00352314],\n",
       "       [0.00423821],\n",
       "       [0.00410041],\n",
       "       [0.00361887],\n",
       "       [0.00285898],\n",
       "       [0.0027461 ],\n",
       "       [0.00271273],\n",
       "       [0.00288202],\n",
       "       [0.00284304],\n",
       "       [0.00285421],\n",
       "       [0.00255993],\n",
       "       [0.00244361],\n",
       "       [0.00260298],\n",
       "       [0.00240009],\n",
       "       [0.00223915],\n",
       "       [0.00233036],\n",
       "       [0.00245796],\n",
       "       [0.0027224 ],\n",
       "       [0.00299087],\n",
       "       [0.00337073],\n",
       "       [0.00321507],\n",
       "       [0.00294872],\n",
       "       [0.00262708],\n",
       "       [0.00264001],\n",
       "       [0.00286712],\n",
       "       [0.00305321],\n",
       "       [0.00326207],\n",
       "       [0.00348054],\n",
       "       [0.00378653],\n",
       "       [0.00414783],\n",
       "       [0.00383629],\n",
       "       [0.00417879],\n",
       "       [0.00429833],\n",
       "       [0.00382626],\n",
       "       [0.00380068],\n",
       "       [0.00330325],\n",
       "       [0.00332037],\n",
       "       [0.00322377],\n",
       "       [0.0033908 ],\n",
       "       [0.00347068],\n",
       "       [0.00357188],\n",
       "       [0.00348963],\n",
       "       [0.00396716],\n",
       "       [0.00447625],\n",
       "       [0.00398615],\n",
       "       [0.00394822],\n",
       "       [0.00355839],\n",
       "       [0.00370515],\n",
       "       [0.00387038],\n",
       "       [0.00362072],\n",
       "       [0.00389062],\n",
       "       [0.00380181],\n",
       "       [0.00381392],\n",
       "       [0.00426055],\n",
       "       [0.0047822 ],\n",
       "       [0.00455062],\n",
       "       [0.00351001],\n",
       "       [0.00515511],\n",
       "       [0.00576305],\n",
       "       [0.00710968],\n",
       "       [0.00609313],\n",
       "       [0.00467305],\n",
       "       [0.00397599],\n",
       "       [0.00436133],\n",
       "       [0.00657744]], dtype=float32)"
      ]
     },
     "execution_count": 23,
     "metadata": {},
     "output_type": "execute_result"
    }
   ],
   "source": [
    "ypred"
   ]
  },
  {
   "cell_type": "code",
   "execution_count": null,
   "metadata": {},
   "outputs": [],
   "source": [
    "df_pred = pd.concat([pd.DataFrame(ypred), pd.DataFrame(xtest[:, 1:][win_len:]) ], axis=1)"
   ]
  },
  {
   "cell_type": "code",
   "execution_count": null,
   "metadata": {},
   "outputs": [
    {
     "data": {
      "image/png": "[encoded data removed]",
      "text/plain": [
       "<Figure size 432x288 with 1 Axes>"
      ]
     },
     "metadata": {
      "needs_background": "light"
     },
     "output_type": "display_data"
    }
   ],
   "source": [
    "plt.plot(ytest)\n",
    "plt.plot(ypred)\n",
    "plt.show()"
   ]
  },
  {
   "cell_type": "code",
   "execution_count": null,
   "metadata": {},
   "outputs": [
    {
     "data": {
      "text/html": [
       "<div>\n",
       "<style scoped>\n",
       "    .dataframe tbody tr th:only-of-type {\n",
       "        vertical-align: middle;\n",
       "    }\n",
       "\n",
       "    .dataframe tbody tr th {\n",
       "        vertical-align: top;\n",
       "    }\n",
       "\n",
       "    .dataframe thead th {\n",
       "        text-align: right;\n",
       "    }\n",
       "</style>\n",
       "<table border=\"1\" class=\"dataframe\">\n",
       "  <thead>\n",
       "    <tr style=\"text-align: right;\">\n",
       "      <th></th>\n",
       "      <th>0</th>\n",
       "      <th>1</th>\n",
       "    </tr>\n",
       "  </thead>\n",
       "  <tbody>\n",
       "    <tr>\n",
       "      <th>0</th>\n",
       "      <td>0.110672</td>\n",
       "      <td>0.0</td>\n",
       "    </tr>\n",
       "    <tr>\n",
       "      <th>1</th>\n",
       "      <td>0.079051</td>\n",
       "      <td>0.0</td>\n",
       "    </tr>\n",
       "    <tr>\n",
       "      <th>2</th>\n",
       "      <td>0.102767</td>\n",
       "      <td>0.0</td>\n",
       "    </tr>\n",
       "    <tr>\n",
       "      <th>3</th>\n",
       "      <td>0.098814</td>\n",
       "      <td>0.0</td>\n",
       "    </tr>\n",
       "    <tr>\n",
       "      <th>4</th>\n",
       "      <td>0.150198</td>\n",
       "      <td>0.0</td>\n",
       "    </tr>\n",
       "    <tr>\n",
       "      <th>...</th>\n",
       "      <td>...</td>\n",
       "      <td>...</td>\n",
       "    </tr>\n",
       "    <tr>\n",
       "      <th>99</th>\n",
       "      <td>0.490119</td>\n",
       "      <td>0.0</td>\n",
       "    </tr>\n",
       "    <tr>\n",
       "      <th>100</th>\n",
       "      <td>0.545455</td>\n",
       "      <td>0.0</td>\n",
       "    </tr>\n",
       "    <tr>\n",
       "      <th>101</th>\n",
       "      <td>0.577075</td>\n",
       "      <td>0.0</td>\n",
       "    </tr>\n",
       "    <tr>\n",
       "      <th>102</th>\n",
       "      <td>0.608696</td>\n",
       "      <td>0.0</td>\n",
       "    </tr>\n",
       "    <tr>\n",
       "      <th>103</th>\n",
       "      <td>0.648221</td>\n",
       "      <td>0.0</td>\n",
       "    </tr>\n",
       "  </tbody>\n",
       "</table>\n",
       "<p>104 rows × 2 columns</p>\n",
       "</div>"
      ],
      "text/plain": [
       "            0    1\n",
       "0    0.110672  0.0\n",
       "1    0.079051  0.0\n",
       "2    0.102767  0.0\n",
       "3    0.098814  0.0\n",
       "4    0.150198  0.0\n",
       "..        ...  ...\n",
       "99   0.490119  0.0\n",
       "100  0.545455  0.0\n",
       "101  0.577075  0.0\n",
       "102  0.608696  0.0\n",
       "103  0.648221  0.0\n",
       "\n",
       "[104 rows x 2 columns]"
      ]
     },
     "execution_count": 26,
     "metadata": {},
     "output_type": "execute_result"
    }
   ],
   "source": [
    "ai_mc= pd.DataFrame(xtest[:, 1:][win_len:])\n",
    "ai_mc"
   ]
  },
  {
   "cell_type": "code",
   "execution_count": null,
   "metadata": {},
   "outputs": [
    {
     "data": {
      "text/plain": [
       "array([[1.71021608e+01, 7.40000000e+00, 0.00000000e+00],\n",
       "       [1.71127088e+01, 6.60000000e+00, 0.00000000e+00],\n",
       "       [1.71349999e+01, 7.20000000e+00, 0.00000000e+00],\n",
       "       [1.71826837e+01, 7.10000000e+00, 0.00000000e+00],\n",
       "       [1.71833720e+01, 8.40000000e+00, 0.00000000e+00],\n",
       "       [1.72159530e+01, 9.60000000e+00, 0.00000000e+00],\n",
       "       [1.71707824e+01, 1.02000000e+01, 0.00000000e+00],\n",
       "       [1.71276131e+01, 1.04000000e+01, 0.00000000e+00],\n",
       "       [1.71049361e+01, 8.90000000e+00, 0.00000000e+00],\n",
       "       [1.70851997e+01, 1.08000000e+01, 0.00000000e+00],\n",
       "       [1.70697647e+01, 9.50000000e+00, 0.00000000e+00],\n",
       "       [1.70669145e+01, 7.80000000e+00, 0.00000000e+00],\n",
       "       [1.70669744e+01, 1.01000000e+01, 0.00000000e+00],\n",
       "       [1.70672702e+01, 9.90000000e+00, 0.00000000e+00],\n",
       "       [1.70715597e+01, 9.90000000e+00, 0.00000000e+00],\n",
       "       [1.70747359e+01, 1.52000000e+01, 0.00000000e+00],\n",
       "       [1.70762545e+01, 1.66000000e+01, 0.00000000e+00],\n",
       "       [1.70775275e+01, 1.67000000e+01, 0.00000000e+00],\n",
       "       [1.70752500e+01, 1.67000000e+01, 2.10000000e+00],\n",
       "       [1.70788715e+01, 1.52000000e+01, 0.00000000e+00],\n",
       "       [1.70750944e+01, 1.36000000e+01, 0.00000000e+00],\n",
       "       [1.70822844e+01, 1.58000000e+01, 0.00000000e+00],\n",
       "       [1.70973017e+01, 1.92000000e+01, 0.00000000e+00],\n",
       "       [1.71003009e+01, 1.64000000e+01, 4.40000000e+00],\n",
       "       [1.71063798e+01, 1.75000000e+01, 0.00000000e+00],\n",
       "       [1.71543805e+01, 1.34000000e+01, 0.00000000e+00],\n",
       "       [1.71662140e+01, 7.00000000e+00, 0.00000000e+00],\n",
       "       [1.71693392e+01, 7.80000000e+00, 0.00000000e+00],\n",
       "       [1.71719682e+01, 8.40000000e+00, 0.00000000e+00],\n",
       "       [1.71342310e+01, 1.12000000e+01, 0.00000000e+00],\n",
       "       [1.71278832e+01, 1.44000000e+01, 0.00000000e+00],\n",
       "       [1.71738002e+01, 1.53000000e+01, 0.00000000e+00],\n",
       "       [1.72016090e+01, 1.59000000e+01, 0.00000000e+00],\n",
       "       [1.71570528e+01, 1.09000000e+01, 0.00000000e+00],\n",
       "       [1.71350892e+01, 9.60000000e+00, 0.00000000e+00],\n",
       "       [1.70908145e+01, 9.40000000e+00, 0.00000000e+00],\n",
       "       [1.70692158e+01, 1.10000000e+01, 0.00000000e+00],\n",
       "       [1.70734727e+01, 1.11000000e+01, 0.00000000e+00],\n",
       "       [1.70791275e+01, 1.14000000e+01, 0.00000000e+00],\n",
       "       [1.70968863e+01, 7.90000000e+00, 0.00000000e+00],\n",
       "       [1.71165509e+01, 5.80000000e+00, 0.00000000e+00],\n",
       "       [1.71127613e+01, 8.20000000e+00, 0.00000000e+00],\n",
       "       [1.70995190e+01, 7.30000000e+00, 0.00000000e+00],\n",
       "       [1.70786218e+01, 5.20000000e+00, 0.00000000e+00],\n",
       "       [1.70755177e+01, 6.40000000e+00, 0.00000000e+00],\n",
       "       [1.70746002e+01, 7.40000000e+00, 0.00000000e+00],\n",
       "       [1.70792556e+01, 9.40000000e+00, 0.00000000e+00],\n",
       "       [1.70781836e+01, 1.12000000e+01, 0.00000000e+00],\n",
       "       [1.70784908e+01, 1.42000000e+01, 0.00000000e+00],\n",
       "       [1.70703979e+01, 1.36000000e+01, 0.00000000e+00],\n",
       "       [1.70671994e+01, 1.11000000e+01, 0.00000000e+00],\n",
       "       [1.70715821e+01, 8.20000000e+00, 0.00000000e+00],\n",
       "       [1.70660025e+01, 7.90000000e+00, 0.00000000e+00],\n",
       "       [1.70615765e+01, 9.80000000e+00, 0.00000000e+00],\n",
       "       [1.70640850e+01, 1.14000000e+01, 0.00000000e+00],\n",
       "       [1.70675938e+01, 1.28000000e+01, 0.00000000e+00],\n",
       "       [1.70748660e+01, 1.26000000e+01, 0.00000000e+00],\n",
       "       [1.70822489e+01, 1.34000000e+01, 0.00000000e+00],\n",
       "       [1.70926951e+01, 1.60000000e+01, 0.00000000e+00],\n",
       "       [1.70884145e+01, 1.44000000e+01, 0.00000000e+00],\n",
       "       [1.70810898e+01, 1.54000000e+01, 1.00000000e-02],\n",
       "       [1.70722447e+01, 1.58000000e+01, 1.00000000e-02],\n",
       "       [1.70726002e+01, 1.40000000e+01, 0.00000000e+00],\n",
       "       [1.70788457e+01, 1.50000000e+01, 0.00000000e+00],\n",
       "       [1.70839634e+01, 1.22000000e+01, 0.00000000e+00],\n",
       "       [1.70897068e+01, 1.25000000e+01, 0.00000000e+00],\n",
       "       [1.70957147e+01, 1.21000000e+01, 0.00000000e+00],\n",
       "       [1.71041295e+01, 1.34000000e+01, 0.00000000e+00],\n",
       "       [1.71140654e+01, 1.40000000e+01, 0.00000000e+00],\n",
       "       [1.71054979e+01, 1.55000000e+01, 0.00000000e+00],\n",
       "       [1.71149166e+01, 1.42000000e+01, 0.00000000e+00],\n",
       "       [1.71182041e+01, 1.54000000e+01, 0.00000000e+00],\n",
       "       [1.71052222e+01, 1.82000000e+01, 0.00000000e+00],\n",
       "       [1.71045186e+01, 1.62000000e+01, 0.00000000e+00],\n",
       "       [1.70908393e+01, 1.70000000e+01, 0.00000000e+00],\n",
       "       [1.70913102e+01, 1.38000000e+01, 0.00000000e+00],\n",
       "       [1.70886536e+01, 1.47000000e+01, 0.00000000e+00],\n",
       "       [1.70932469e+01, 1.74000000e+01, 0.00000000e+00],\n",
       "       [1.70954438e+01, 1.46000000e+01, 0.00000000e+00],\n",
       "       [1.70982267e+01, 1.64000000e+01, 0.00000000e+00],\n",
       "       [1.70959648e+01, 1.69000000e+01, 0.00000000e+00],\n",
       "       [1.71090970e+01, 1.62000000e+01, 0.00000000e+00],\n",
       "       [1.71230970e+01, 1.66000000e+01, 0.00000000e+00],\n",
       "       [1.71096193e+01, 1.84000000e+01, 0.00000000e+00],\n",
       "       [1.71085761e+01, 1.96000000e+01, 0.00000000e+00],\n",
       "       [1.70978558e+01, 1.56000000e+01, 1.46000000e+01],\n",
       "       [1.71018917e+01, 1.67000000e+01, 0.00000000e+00],\n",
       "       [1.71064354e+01, 1.72000000e+01, 0.00000000e+00],\n",
       "       [1.70995699e+01, 2.05000000e+01, 0.00000000e+00],\n",
       "       [1.71069921e+01, 2.06000000e+01, 0.00000000e+00],\n",
       "       [1.71045499e+01, 1.92000000e+01, 4.00000000e-01],\n",
       "       [1.71048828e+01, 1.86000000e+01, 1.00000000e+01],\n",
       "       [1.71171652e+01, 1.58000000e+01, 1.00000000e+01],\n",
       "       [1.71315104e+01, 1.86000000e+01, 1.00000000e-02],\n",
       "       [1.71251421e+01, 2.02000000e+01, 0.00000000e+00],\n",
       "       [1.70965253e+01, 2.04000000e+01, 0.00000000e+00],\n",
       "       [1.71417656e+01, 1.82000000e+01, 6.00000000e-01],\n",
       "       [1.71584838e+01, 1.94000000e+01, 0.00000000e+00],\n",
       "       [1.71955162e+01, 1.72000000e+01, 0.00000000e+00],\n",
       "       [1.71675610e+01, 1.70000000e+01, 0.00000000e+00],\n",
       "       [1.71285088e+01, 1.84000000e+01, 0.00000000e+00],\n",
       "       [1.71093398e+01, 1.92000000e+01, 0.00000000e+00],\n",
       "       [1.71199366e+01, 2.00000000e+01, 0.00000000e+00],\n",
       "       [1.71808796e+01, 2.10000000e+01, 0.00000000e+00]])"
      ]
     },
     "execution_count": 27,
     "metadata": {},
     "output_type": "execute_result"
    }
   ],
   "source": [
    "df_final = sca.inverse_transform(df_pred)\n",
    "df_final"
   ]
  },
  {
   "cell_type": "code",
   "execution_count": null,
   "metadata": {},
   "outputs": [
    {
     "data": {
      "text/plain": [
       "MAX_TEMP           104\n",
       "MIN_TEMP           104\n",
       "RAINFALL_24_HRS    104\n",
       "dtype: int64"
      ]
     },
     "execution_count": 28,
     "metadata": {},
     "output_type": "execute_result"
    }
   ],
   "source": [
    "df_main= input_df[ypred.shape[0]*-1:]\n",
    "df_main.count()"
   ]
  },
  {
   "cell_type": "code",
   "execution_count": null,
   "metadata": {},
   "outputs": [
    {
     "name": "stderr",
     "output_type": "stream",
     "text": [
      "C:\\Users\\meet1\\AppData\\Local\\Temp\\ipykernel_19148\\574704383.py:1: SettingWithCopyWarning: \n",
      "A value is trying to be set on a copy of a slice from a DataFrame.\n",
      "Try using .loc[row_indexer,col_indexer] = value instead\n",
      "\n",
      "See the caveats in the documentation: https://pandas.pydata.org/pandas-docs/stable/user_guide/indexing.html#returning-a-view-versus-a-copy\n",
      "  df_main['Rain_pred'] = df_final[:, 0]\n"
     ]
    },
    {
     "data": {
      "text/html": [
       "<div>\n",
       "<style scoped>\n",
       "    .dataframe tbody tr th:only-of-type {\n",
       "        vertical-align: middle;\n",
       "    }\n",
       "\n",
       "    .dataframe tbody tr th {\n",
       "        vertical-align: top;\n",
       "    }\n",
       "\n",
       "    .dataframe thead th {\n",
       "        text-align: right;\n",
       "    }\n",
       "</style>\n",
       "<table border=\"1\" class=\"dataframe\">\n",
       "  <thead>\n",
       "    <tr style=\"text-align: right;\">\n",
       "      <th></th>\n",
       "      <th>MAX_TEMP</th>\n",
       "      <th>MIN_TEMP</th>\n",
       "      <th>RAINFALL_24_HRS</th>\n",
       "      <th>Rain_pred</th>\n",
       "    </tr>\n",
       "  </thead>\n",
       "  <tbody>\n",
       "    <tr>\n",
       "      <th>352</th>\n",
       "      <td>21.4</td>\n",
       "      <td>7.4</td>\n",
       "      <td>0.0</td>\n",
       "      <td>17.102161</td>\n",
       "    </tr>\n",
       "    <tr>\n",
       "      <th>353</th>\n",
       "      <td>21.7</td>\n",
       "      <td>6.6</td>\n",
       "      <td>0.0</td>\n",
       "      <td>17.112709</td>\n",
       "    </tr>\n",
       "    <tr>\n",
       "      <th>354</th>\n",
       "      <td>23.4</td>\n",
       "      <td>7.2</td>\n",
       "      <td>0.0</td>\n",
       "      <td>17.135000</td>\n",
       "    </tr>\n",
       "    <tr>\n",
       "      <th>355</th>\n",
       "      <td>24.5</td>\n",
       "      <td>7.1</td>\n",
       "      <td>0.0</td>\n",
       "      <td>17.182684</td>\n",
       "    </tr>\n",
       "    <tr>\n",
       "      <th>356</th>\n",
       "      <td>25.6</td>\n",
       "      <td>8.4</td>\n",
       "      <td>0.0</td>\n",
       "      <td>17.183372</td>\n",
       "    </tr>\n",
       "    <tr>\n",
       "      <th>...</th>\n",
       "      <td>...</td>\n",
       "      <td>...</td>\n",
       "      <td>...</td>\n",
       "      <td>...</td>\n",
       "    </tr>\n",
       "    <tr>\n",
       "      <th>451</th>\n",
       "      <td>33.7</td>\n",
       "      <td>17.0</td>\n",
       "      <td>0.0</td>\n",
       "      <td>17.167561</td>\n",
       "    </tr>\n",
       "    <tr>\n",
       "      <th>452</th>\n",
       "      <td>36.8</td>\n",
       "      <td>18.4</td>\n",
       "      <td>0.0</td>\n",
       "      <td>17.128509</td>\n",
       "    </tr>\n",
       "    <tr>\n",
       "      <th>453</th>\n",
       "      <td>38.9</td>\n",
       "      <td>19.2</td>\n",
       "      <td>0.0</td>\n",
       "      <td>17.109340</td>\n",
       "    </tr>\n",
       "    <tr>\n",
       "      <th>454</th>\n",
       "      <td>41.0</td>\n",
       "      <td>20.0</td>\n",
       "      <td>0.0</td>\n",
       "      <td>17.119937</td>\n",
       "    </tr>\n",
       "    <tr>\n",
       "      <th>455</th>\n",
       "      <td>40.2</td>\n",
       "      <td>21.0</td>\n",
       "      <td>0.0</td>\n",
       "      <td>17.180880</td>\n",
       "    </tr>\n",
       "  </tbody>\n",
       "</table>\n",
       "<p>104 rows × 4 columns</p>\n",
       "</div>"
      ],
      "text/plain": [
       "     MAX_TEMP  MIN_TEMP  RAINFALL_24_HRS  Rain_pred\n",
       "352      21.4       7.4              0.0  17.102161\n",
       "353      21.7       6.6              0.0  17.112709\n",
       "354      23.4       7.2              0.0  17.135000\n",
       "355      24.5       7.1              0.0  17.182684\n",
       "356      25.6       8.4              0.0  17.183372\n",
       "..        ...       ...              ...        ...\n",
       "451      33.7      17.0              0.0  17.167561\n",
       "452      36.8      18.4              0.0  17.128509\n",
       "453      38.9      19.2              0.0  17.109340\n",
       "454      41.0      20.0              0.0  17.119937\n",
       "455      40.2      21.0              0.0  17.180880\n",
       "\n",
       "[104 rows x 4 columns]"
      ]
     },
     "execution_count": 29,
     "metadata": {},
     "output_type": "execute_result"
    }
   ],
   "source": [
    "df_main['Rain_pred'] = df_final[:, 0]\n",
    "df_main\n"
   ]
  },
  {
   "cell_type": "code",
   "execution_count": null,
   "metadata": {},
   "outputs": [
    {
     "data": {
      "text/plain": [
       "<AxesSubplot:>"
      ]
     },
     "execution_count": 30,
     "metadata": {},
     "output_type": "execute_result"
    },
    {
     "data": {
      "image/png": "[encoded data removed]",
      "text/plain": [
       "<Figure size 432x288 with 1 Axes>"
      ]
     },
     "metadata": {
      "needs_background": "light"
     },
     "output_type": "display_data"
    }
   ],
   "source": [
    "df_main[['RAINFALL_24_HRS', 'Rain_pred']].plot()"
   ]
  }
 ],
 "metadata": {
  "kernelspec": {
   "display_name": "Python 3",
   "language": "python",
   "name": "python3"
  },
  "language_info": {
   "codemirror_mode": {
    "name": "ipython",
    "version": 3
   },
   "file_extension": ".py",
   "mimetype": "text/x-python",
   "name": "python",
   "nbconvert_exporter": "python",
   "pygments_lexer": "ipython3",
   "version": "3.10.2"
  },
  "orig_nbformat": 4
 },
 "nbformat": 4,
 "nbformat_minor": 2
}
